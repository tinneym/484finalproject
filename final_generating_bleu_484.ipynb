{
  "cells": [
    {
      "cell_type": "code",
      "execution_count": null,
      "metadata": {
        "id": "cWjai4J5kZlP"
      },
      "outputs": [],
      "source": [
        "# Mount Colab account to Google Drive\n",
        "from google.colab import drive\n",
        "drive.mount('/content/gdrive')"
      ]
    },
    {
      "cell_type": "code",
      "execution_count": null,
      "metadata": {
        "id": "dE-eJyY_5O_h"
      },
      "outputs": [],
      "source": [
        "# Set up environment\n",
        "import numpy\n",
        "if numpy.__version__ >= '1.24':\n",
        "  !pip uninstall -y numpy\n",
        "  !pip install \"numpy<1.24\"\n",
        "\n",
        "def install_torch():\n",
        "  !pip install torch==1.12.0+cu113 torchvision==0.13.0+cu113 torchaudio==0.12.0 --extra-index-url https://download.pytorch.org/whl/cu113\n",
        "\n",
        "install_torch()\n",
        "\n",
        "import torch\n",
        "try:\n",
        "    if torch.__version__ != '1.12.0+cu113':\n",
        "        !pip uninstall -y torch torchdata torchtext #make sure have correct torch version\n",
        "        install_torch()\n",
        "except ImportError:\n",
        "    install_torch()\n",
        "\n",
        "print(torch.__version__)\n",
        "\n",
        "!nvidia-smi\n",
        "!wget https://developer.download.nvidia.com/compute/cuda/repos/ubuntu1604/x86_64/cuda-ubuntu1604.pin\n",
        "!mv cuda-ubuntu1604.pin /etc/apt/preferences.d/cuda-repository-pin-600\n",
        "\n",
        "!wget https://developer.download.nvidia.com/compute/cuda/11.3.0/local_installers/cuda-repo-ubuntu1604-11-3-local_11.3.0-465.19.01-1_amd64.deb\n",
        "!dpkg -i cuda-repo-ubuntu1604-11-3-local_11.3.0-465.19.01-1_amd64.deb\n",
        "\n",
        "!apt-key add /var/cuda-repo-ubuntu1604-11-3-local/7fa2af80.pub\n",
        "!apt-get update\n",
        "!apt-get -y install cuda-11-3\n",
        "!apt autoremove\n",
        "\n",
        "!nvcc --version\n",
        "\n",
        "!update-alternatives --set cuda /usr/local/cuda-11.3\n",
        "\n",
        "!nvidia-smi\n",
        "\n",
        "!nvcc --version\n",
        "\n",
        "import tensorflow as tf\n",
        "tf.test.gpu_device_name()"
      ]
    },
    {
      "cell_type": "code",
      "execution_count": null,
      "metadata": {
        "id": "mVnbbBETk30l"
      },
      "outputs": [],
      "source": [
        "# Clone paper's Github repo and install requirements\n",
        "! apt-get install git\n",
        "\n",
        "!ssh-keygen -t rsa -b 4096\n",
        "!ssh-keyscan -t rsa github.com >> ~/.ssh/known_hosts\n",
        "!cat /root/.ssh/id_rsa.pub  # add SSH key to your Github\n",
        "\n",
        "%cd /content/\n",
        "!git clone git@github.com:chenllliang/MLS.git\n",
        "\n",
        "%cd /content/MLS/fairseq\n",
        "!pip install --editable ./\n",
        "!pip install sacremoses\n",
        "\n",
        "%cd /content/\n",
        "!git clone git@github.com:moses-smt/mosesdecoder.git /content/MLS/Tools/mosesdecoder/\n",
        "!git clone git@github.com:rsennrich/subword-nmt.git /content/MLS/Tools/subword-nmt/\n"
      ]
    },
    {
      "cell_type": "code",
      "execution_count": null,
      "metadata": {
        "id": "uQ7z0wEN2Krf"
      },
      "outputs": [],
      "source": [
        "# Code to unzip databin file\n",
        "!unzip /content/MLS/databin/iwslt14-de-en-bin.zip -d /content/MLS/databin/"
      ]
    },
    {
      "cell_type": "code",
      "source": [
        "# Code to remove databin contents\n",
        "!rm -r /content/MLS/databin/iwslt14-de-en-isolated-new/\n",
        "!rm -r /content/MLS/databin/iwslt14-de-en-joined-new"
      ],
      "metadata": {
        "id": "IHKB3AY8Uhct"
      },
      "execution_count": null,
      "outputs": []
    },
    {
      "cell_type": "code",
      "source": [
        "# Generate BLEU scores with checkpoint (either LS or MLS, change destinations as needed)\n",
        "%cd /content/MLS/scripts\n",
        "!cp -r /content/gdrive/MyDrive/NLP-MLS/fr-en-LS /content/MLS/checkpoints/fr-en-LS\n",
        "!cp -r /content/gdrive/MyDrive/NLP-MLS/Datasets/iwslt14-fr-en/iwslt14-de-en-joined-new /content/MLS/databin/\n",
        "!bash generate.sh ../databin/iwslt14-de-en-joined-new ../checkpoints/fr-en-LS ../Output/iwslt14-fr-en-ls-0.1.out"
      ],
      "metadata": {
        "id": "yPuO01M222RJ"
      },
      "execution_count": null,
      "outputs": []
    },
    {
      "cell_type": "code",
      "source": [
        "# Save output files from runtime to Google Drive (change destination)\n",
        "!cp \"/content/MLS/Output/fr-en-ls-0.1.out\" \"/content/gdrive/MyDrive/NLP-MLS/iwslt14-output/fr-en-ls-0.1.out\"\n",
        "!cp \"/content/MLS/Output/fr-en-ls-0.1.out.ref\" \"/content/gdrive/MyDrive/NLP-MLS/iwslt14-output/fr-en-ls-0.1.out.ref\"\n",
        "!cp \"/content/MLS/Output/fr-en-ls-0.1.out.sys\" \"/content/gdrive/MyDrive/NLP-MLS/iwslt14-output/fr-en-ls-0.1.out.sys\""
      ],
      "metadata": {
        "id": "IpBQAdkwOC5y"
      },
      "execution_count": null,
      "outputs": []
    }
  ],
  "metadata": {
    "colab": {
      "provenance": []
    },
    "kernelspec": {
      "display_name": "Python 3",
      "name": "python3"
    },
    "language_info": {
      "name": "python"
    }
  },
  "nbformat": 4,
  "nbformat_minor": 0
}